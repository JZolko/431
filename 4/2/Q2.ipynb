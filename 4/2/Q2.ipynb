{
 "cells": [
  {
   "cell_type": "markdown",
   "metadata": {},
   "source": [
    "The sorting algorithms below were implemented by me in CSE331"
   ]
  },
  {
   "cell_type": "markdown",
   "metadata": {},
   "source": [
    "#### The following imports must be made to run any code below"
   ]
  },
  {
   "cell_type": "code",
   "execution_count": 2,
   "metadata": {
    "scrolled": true
   },
   "outputs": [],
   "source": [
    "from typing import TypeVar, List, Callable, Dict\n",
    "T = TypeVar(\"T\")  # represents generic type\n",
    "import timeit\n",
    "from random import randint\n",
    "import random\n",
    "import matplotlib.pyplot as plt\n",
    "from timeit import timeit\n",
    "import numpy as np"
   ]
  },
  {
   "cell_type": "markdown",
   "metadata": {},
   "source": [
    "### Merge Sort"
   ]
  },
  {
   "cell_type": "code",
   "execution_count": 3,
   "metadata": {},
   "outputs": [],
   "source": [
    "def merge(d1, d2, data,\n",
    "          comparator: Callable[[T, T], bool] = lambda x, y: x <= y) -> int:\n",
    "    \"\"\"\n",
    "    :param d1: first half of the list\n",
    "    :param d2: last half of the list\n",
    "    :param data: the whole list\n",
    "    :param comparator: How to sort the list\n",
    "    return: the number of inversions\n",
    "    \"\"\"\n",
    "\n",
    "    val = i = j = 0\n",
    "\n",
    "    while i + j < len(data):\n",
    "\n",
    "        if j == len(d2) or (i < len(d1) and comparator(d1[i], d2[j])):\n",
    "            data[i + j] = d1[i]\n",
    "            i += 1\n",
    "            val += j\n",
    "        else:\n",
    "            data[i + j] = d2[j]\n",
    "            j += 1\n",
    "    return val\n",
    "\n",
    "def merge_sort(data: List[T], threshold: int = 0,\n",
    "               comparator: Callable[[T, T], bool] = lambda x, y: x <= y) -> int:\n",
    "    \"\"\"\n",
    "    :param data: List of items to be sorted.\n",
    "    :param threshold: int representing the size of the data at which insertion sort should be used.\n",
    "    :param comparator: compares 2 variables and returns true if the first is larger else false\n",
    "    return: int representing inversion count, else 0 if threshold > 0.\n",
    "    \"\"\"\n",
    "    val = 0\n",
    "    length = len(data)\n",
    "    if length < 2:\n",
    "        return 0\n",
    "\n",
    "    if threshold > length:\n",
    "        val = 0\n",
    "        for i in range(1, length):\n",
    "            j = i\n",
    "            while (j > 0) and comparator(data[j], data[j - 1]):\n",
    "                data[j], data[j - 1] = data[j - 1], data[j]\n",
    "                j -= 1\n",
    "                val += 1\n",
    "        return val\n",
    "\n",
    "    else:\n",
    "\n",
    "        mid = length // 2\n",
    "        data1 = data[0:mid]\n",
    "        data2 = data[mid:length]\n",
    "        val += merge_sort(data1, threshold, comparator)\n",
    "        val += merge_sort(data2, threshold, comparator)\n",
    "\n",
    "        val += merge(data1, data2, data, comparator)\n",
    "\n",
    "    if threshold:\n",
    "        return 0\n",
    "    return val\n"
   ]
  },
  {
   "cell_type": "markdown",
   "metadata": {},
   "source": [
    "### Insertion Sort"
   ]
  },
  {
   "cell_type": "code",
   "execution_count": 4,
   "metadata": {},
   "outputs": [],
   "source": [
    "def insertion_sort(data: List[T],\n",
    "                   comparator: Callable[[T, T], bool] = lambda x, y: x <= y) -> None:\n",
    "    \"\"\"\n",
    "    :param data: unsorted list\n",
    "    :param comparator: compares 2 variables and returns true if the first is larger else false\n",
    "    return: int representing inversion count, else 0 if threshold > 0.\n",
    "    \"\"\"\n",
    "    for i in range(1, len(data)):\n",
    "        j = i\n",
    "        while (j > 0) and comparator(data[j], data[j - 1]):\n",
    "            data[j], data[j - 1] = data[j - 1], data[j]\n",
    "            j -= 1"
   ]
  },
  {
   "cell_type": "markdown",
   "metadata": {},
   "source": [
    "### Tim Sort"
   ]
  },
  {
   "cell_type": "code",
   "execution_count": 5,
   "metadata": {},
   "outputs": [],
   "source": [
    "def tim_sort(data: List[T], threshold: int,\n",
    "                comparator: Callable[[T, T], bool] = lambda x, y: x <= y) -> None:\n",
    "    \"\"\"\n",
    "    :param data: List of items to be sorted.\n",
    "    :param threshold: int representing the size of the data at which insertion sort should be used.\n",
    "    :param comparator: compares 2 variables and returns true if the first is larger else false\n",
    "    return: int representing inversion count, else 0 if threshold > 0.\n",
    "    \"\"\"\n",
    "    merge_sort(data, threshold, comparator)\n",
    "    return None"
   ]
  },
  {
   "cell_type": "markdown",
   "metadata": {},
   "source": [
    "### Hypothesis"
   ]
  },
  {
   "cell_type": "markdown",
   "metadata": {},
   "source": [
    "Looking at the data from the last question, we saw that merge sort became more efficient than insertion sort around a list size of 40 elements. My hypothesis is that Tim sort will be most efficient with a k value below 40, k < 40."
   ]
  },
  {
   "cell_type": "markdown",
   "metadata": {},
   "source": [
    "### Methods"
   ]
  },
  {
   "cell_type": "markdown",
   "metadata": {},
   "source": [
    "To generate the sorting times I created lists with 100 randomized values from -100 to 100 using the random library with a constant seed. Using a seed will create the same randomized list across all testing instances. Tim sort is passed a the randomized list to sort and the run time was calculated using the python library timeit. There is only one time calculated for Tim sort per value k, but accuracy could be improved by averaging a number of trials per value of k. The values are then added to a list to be used for plotting."
   ]
  },
  {
   "cell_type": "markdown",
   "metadata": {},
   "source": [
    "### Code to Generate the Sorting Data"
   ]
  },
  {
   "cell_type": "code",
   "execution_count": 6,
   "metadata": {},
   "outputs": [],
   "source": [
    "random.seed(331)\n",
    "\n",
    "hybrid_times = []\n",
    "\n",
    "for k in range(100):\n",
    "    sample_list = [randint(-100,100) for i in range(100)]\n",
    "    \n",
    "    hybrid_list = sample_list[:]\n",
    "    \n",
    "    hybrid_times.append(\n",
    "        timeit('tim_sort(hybrid_list, threshold=k)',\n",
    "               number=1, globals=globals()))\n",
    "    \n"
   ]
  },
  {
   "cell_type": "code",
   "execution_count": null,
   "metadata": {},
   "outputs": [],
   "source": []
  },
  {
   "cell_type": "markdown",
   "metadata": {},
   "source": [
    "### Code to plot the sorting times"
   ]
  },
  {
   "cell_type": "code",
   "execution_count": 11,
   "metadata": {
    "scrolled": true
   },
   "outputs": [
    {
     "data": {
      "image/png": "[encoded data removed]",
      "text/plain": [
       "<Figure size 1152x648 with 1 Axes>"
      ]
     },
     "metadata": {
      "needs_background": "light"
     },
     "output_type": "display_data"
    }
   ],
   "source": [
    "plt.plot([i+1 for i in range(len(hybrid_times))],\n",
    "        hybrid_times,\n",
    "        label=\"Hybrid Sort Times\",\n",
    "        color=\"red\")\n",
    "\n",
    "plt.legend()\n",
    "plt.xticks(np.arange(1, 100+1, 2))\n",
    "plt.title(\"Hybrid Sort Optimized Threshold\")\n",
    "plt.ylabel(\"Time in seconds\")\n",
    "plt.xlabel(\"k value\")\n",
    "plt.rcParams[\"figure.figsize\"] = [16,9]\n",
    "plt.show()"
   ]
  },
  {
   "cell_type": "markdown",
   "metadata": {},
   "source": [
    "### Results"
   ]
  },
  {
   "cell_type": "markdown",
   "metadata": {},
   "source": [
    "Given the plot above, we observe that tim sort performs best with a k value under 51, which is higher than what was observed in the pervious question with merge sort being more efficient after a list length of 40. The y axis is the time the sorting algorithm took in seconds and the x axis shows the value of k. There are some instances of the algorithm taking more time than expected, which will be addressed in the discussion portion of the assignment."
   ]
  },
  {
   "cell_type": "markdown",
   "metadata": {},
   "source": [
    "### Discussion"
   ]
  },
  {
   "cell_type": "markdown",
   "metadata": {},
   "source": [
    "I was surprised by the outcome, as the previous tests had shown that insertion sort is faster with a list size of under 40. This inscrease in run time could be explained by merge sort's recursive calls generating smaller and smaller lists which will, at a certain point, be sorted using insertion sort. There were several instances of the sorting alogorithm performing outside what was expected. I assume this could be caused by the generated list being close to or completely reversed. I didn't find any challenges when collecting this data."
   ]
  },
  {
   "cell_type": "markdown",
   "metadata": {},
   "source": [
    "### Conclusions"
   ]
  },
  {
   "cell_type": "markdown",
   "metadata": {},
   "source": [
    "Under the conditions tested, tim sort produces a faster algorithm with k > 2 and k <= 51 while performing worse with a k value > 51."
   ]
  },
  {
   "cell_type": "code",
   "execution_count": null,
   "metadata": {},
   "outputs": [],
   "source": []
  }
 ],
 "metadata": {
  "kernelspec": {
   "display_name": "Python 3",
   "language": "python",
   "name": "python3"
  },
  "language_info": {
   "codemirror_mode": {
    "name": "ipython",
    "version": 3
   },
   "file_extension": ".py",
   "mimetype": "text/x-python",
   "name": "python",
   "nbconvert_exporter": "python",
   "pygments_lexer": "ipython3",
   "version": "3.8.3"
  }
 },
 "nbformat": 4,
 "nbformat_minor": 4
}
